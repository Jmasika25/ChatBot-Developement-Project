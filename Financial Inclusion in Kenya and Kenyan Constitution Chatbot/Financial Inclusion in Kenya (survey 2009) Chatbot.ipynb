{
 "cells": [
  {
   "cell_type": "code",
   "execution_count": 1,
   "id": "7ab2da69",
   "metadata": {},
   "outputs": [
    {
     "name": "stderr",
     "output_type": "stream",
     "text": [
      "C:\\Users\\USER\\AppData\\Local\\Packages\\PythonSoftwareFoundation.Python.3.11_qbz5n2kfra8p0\\LocalCache\\local-packages\\Python311\\site-packages\\tqdm\\auto.py:21: TqdmWarning: IProgress not found. Please update jupyter and ipywidgets. See https://ipywidgets.readthedocs.io/en/stable/user_install.html\n",
      "  from .autonotebook import tqdm as notebook_tqdm\n"
     ]
    }
   ],
   "source": [
    "import os\n",
    "import gradio as gr\n",
    "from langchain_community.document_loaders import PyPDFDirectoryLoader\n",
    "from langchain_text_splitters import RecursiveCharacterTextSplitter\n",
    "from langchain_community.embeddings import HuggingFaceEmbeddings\n",
    "from langchain_chroma import Chroma\n",
    "from langchain_groq import ChatGroq\n",
    "from langchain.prompts import PromptTemplate\n",
    "from langchain.retrievers import ParentDocumentRetriever"
   ]
  },
  {
   "cell_type": "code",
   "execution_count": null,
   "id": "11612440",
   "metadata": {},
   "outputs": [],
   "source": [
    "\n",
    "\n",
    "#os.environ['groq_api_key'] = \"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\""
   ]
  },
  {
   "cell_type": "code",
   "execution_count": 3,
   "id": "72c373cd",
   "metadata": {},
   "outputs": [],
   "source": [
    "# ----------------------------\n",
    "# Load documents\n",
    "# ----------------------------\n",
    "document_path = \"C:/Users/USER/Downloads/LUX TECH ACADEMY/RAG CHATBOT/document\"\n",
    "\n",
    "loader = PyPDFDirectoryLoader(document_path)\n",
    "documents = loader.load()\n",
    "#print(len(documents))"
   ]
  },
  {
   "cell_type": "code",
   "execution_count": 4,
   "id": "eadcbb92",
   "metadata": {},
   "outputs": [],
   "source": [
    "# ----------------------------\n",
    "# Define splitters\n",
    "# ----------------------------\n",
    "# For parent docs (large chunks)\n",
    "parent_splitter = RecursiveCharacterTextSplitter(\n",
    "    chunk_size=2000,\n",
    "    chunk_overlap=200\n",
    ")"
   ]
  },
  {
   "cell_type": "code",
   "execution_count": 5,
   "id": "a3fc4718",
   "metadata": {},
   "outputs": [],
   "source": [
    "\n",
    "# For child docs (small chunks used for embeddings/retrieval)\n",
    "child_splitter = RecursiveCharacterTextSplitter(\n",
    "    chunk_size=600,\n",
    "    chunk_overlap=300\n",
    ")"
   ]
  },
  {
   "cell_type": "code",
   "execution_count": 6,
   "id": "85231477",
   "metadata": {},
   "outputs": [
    {
     "name": "stderr",
     "output_type": "stream",
     "text": [
      "C:\\Users\\USER\\AppData\\Local\\Temp\\ipykernel_14684\\3705390365.py:4: LangChainDeprecationWarning: The class `HuggingFaceEmbeddings` was deprecated in LangChain 0.2.2 and will be removed in 1.0. An updated version of the class exists in the :class:`~langchain-huggingface package and should be used instead. To use it run `pip install -U :class:`~langchain-huggingface` and import as `from :class:`~langchain_huggingface import HuggingFaceEmbeddings``.\n",
      "  embeddings_model = HuggingFaceEmbeddings(\n"
     ]
    }
   ],
   "source": [
    "# ----------------------------\n",
    "# Embeddings + Vector Store\n",
    "# ----------------------------\n",
    "embeddings_model = HuggingFaceEmbeddings(\n",
    "    model_name=\"sentence-transformers/all-MiniLM-L6-v2\"\n",
    ")\n",
    "\n",
    "vector_store = Chroma(\n",
    "    collection_name=\"sample_collection\",\n",
    "    embedding_function=embeddings_model,\n",
    ")"
   ]
  },
  {
   "cell_type": "code",
   "execution_count": null,
   "id": "295db9f0",
   "metadata": {},
   "outputs": [],
   "source": [
    "# ------------------------------\n",
    "# ParentDocumentRetriever\n",
    "# ----------------------------\n",
    "from langchain.storage import InMemoryByteStore\n",
    "# Create a simple in-memory docstore for parent docs\n",
    "docstore = InMemoryByteStore()\n",
    "\n",
    "retriever = ParentDocumentRetriever(\n",
    "    vectorstore=vector_store,\n",
    "    byte_store=docstore,     \n",
    "    child_splitter=child_splitter,\n",
    "    parent_splitter=parent_splitter,\n",
    ")"
   ]
  },
  {
   "cell_type": "code",
   "execution_count": 9,
   "id": "40df041e",
   "metadata": {},
   "outputs": [],
   "source": [
    "\n",
    "# Add documents (they are automatically split into parent + child chunks)\n",
    "retriever.add_documents(documents)\n",
    "#print(\"Documents added to ParentDocumentRetriever\")\n"
   ]
  },
  {
   "cell_type": "code",
   "execution_count": null,
   "id": "ae232731",
   "metadata": {},
   "outputs": [],
   "source": [
    "\n",
    "# ----------------------------\n",
    "# LLM\n",
    "# ----------------------------\n",
    "LLM = ChatGroq(\n",
    "    model=\"llama-3.1-8b-instant\",\n",
    "    #api_key=os.getenv(\"groq_api_key\"),\n",
    "    temperature=0.5\n",
    ")\n"
   ]
  },
  {
   "cell_type": "code",
   "execution_count": 11,
   "id": "ac05216a",
   "metadata": {},
   "outputs": [],
   "source": [
    "# ----------------------------\n",
    "# Prompt Template\n",
    "# ----------------------------\n",
    "rag_prompt_template = PromptTemplate(\n",
    "    input_variables=[\"question\", \"history\", \"knowledge\"],\n",
    "    template=\"\"\"\n",
    "    You are a contextual assistant. Answer the question using only the knowledge provided.\n",
    "    Do not say \"according to documents\" or similar.\n",
    "\n",
    "    Question: {question}\n",
    "\n",
    "    Conversation history: {history}\n",
    "\n",
    "    Knowledge:\n",
    "    {knowledge}\n",
    "    \"\"\"\n",
    ")"
   ]
  },
  {
   "cell_type": "code",
   "execution_count": 12,
   "id": "adff2347",
   "metadata": {},
   "outputs": [],
   "source": [
    "# ----------------------------\n",
    "# Ask function\n",
    "# ----------------------------\n",
    "def ask_question(question, history=None):\n",
    "    history = history or []\n",
    "\n",
    "    # Retrieve parent docs (not just child snippets)\n",
    "    docs = retriever.get_relevant_documents(question)\n",
    "    knowledge = \"\\n\\n\".join([doc.page_content for doc in docs])\n",
    "\n",
    "    # Format the prompt\n",
    "    rag_prompt = rag_prompt_template.format(\n",
    "        question=question,\n",
    "        history=history,\n",
    "        knowledge=knowledge\n",
    "    )\n",
    "\n",
    "    # Stream response\n",
    "    response = \"\"\n",
    "    for chunk in LLM.stream(rag_prompt):\n",
    "        response += chunk.content\n",
    "    return response\n"
   ]
  },
  {
   "cell_type": "code",
   "execution_count": 13,
   "id": "6aeb857a",
   "metadata": {},
   "outputs": [
    {
     "name": "stderr",
     "output_type": "stream",
     "text": [
      "C:\\Users\\USER\\AppData\\Local\\Temp\\ipykernel_14684\\1656382377.py:8: LangChainDeprecationWarning: The method `BaseRetriever.get_relevant_documents` was deprecated in langchain-core 0.1.46 and will be removed in 1.0. Use :meth:`~invoke` instead.\n",
      "  docs = retriever.get_relevant_documents(question)\n"
     ]
    },
    {
     "name": "stdout",
     "output_type": "stream",
     "text": [
      "The functions of the Senate, as established in the Constitution, are:\n",
      "\n",
      "1. To represent the counties and protect their interests.\n",
      "2. To participate in the law-making function of Parliament by considering, debating, and approving Bills concerning counties.\n",
      "3. To determine the allocation of national revenue among counties and exercise oversight over national revenue allocated to county governments.\n",
      "4. To participate in the oversight of State officers by considering and determining any resolution to remove the President or Deputy President from office.\n",
      "5. To perform any function or power that is required to be performed or exercised by both Houses (National Assembly and Senate) jointly, or one after the other.\n"
     ]
    }
   ],
   "source": [
    "print(ask_question(\"What are the functions of the Senate as established in the Constitution?\"))"
   ]
  },
  {
   "cell_type": "code",
   "execution_count": 14,
   "id": "66795b36",
   "metadata": {},
   "outputs": [
    {
     "name": "stdout",
     "output_type": "stream",
     "text": [
      "Mobile money, specifically M-PESA, has been a significant driver of financial inclusion in Kenya. It has been responsible for the lion's share of the growth in access to formal financial services since 2006. As of 2009, M-PESA had 5.3 million registered customers, which equals 25 percent of the adult population. Close to half of its customers are in the formally included category exclusively on the basis of being registered M-PESA users, accounting for 85 percent of the increase in the formally included category over the period between the two surveys.\n"
     ]
    }
   ],
   "source": [
    "print(ask_question(\"What can you say about Mobile money as a driver of financial inclusion in Kenya according to the 2009 survey analysis?\"))"
   ]
  },
  {
   "cell_type": "code",
   "execution_count": 15,
   "id": "adf0bfc1",
   "metadata": {},
   "outputs": [
    {
     "name": "stdout",
     "output_type": "stream",
     "text": [
      "The Constitution ensures judicial independence in Kenya by:\n",
      "\n",
      "- Establishing the Judicial Service Commission (Article 173) to manage the administration of the judiciary and protect its independence.\n",
      "- Providing for the tenure of office of the Chief Justice and other judges (Article 167), which ensures that they serve for a fixed term and cannot be removed arbitrarily.\n",
      "- Prohibiting the removal of judges from office except on specified grounds and through a fair and transparent process (Article 168).\n",
      "- Ensuring that the judiciary has its own fund (Article 173) to manage its affairs and maintain its independence.\n",
      "- Establishing the Supreme Court, Court of Appeal, and High Court as independent institutions (Article 163-165) with their own powers and jurisdiction.\n",
      "- Providing for the appointment of judges through a transparent and independent process (Article 166).\n",
      "- Protecting the independence of the judiciary from interference by other branches of government, including the Executive and Legislature.\n",
      "\n",
      "These provisions collectively ensure that the judiciary is independent and impartial, and can perform its constitutional role without fear of interference or influence from other branches of government.\n"
     ]
    }
   ],
   "source": [
    "print(ask_question(\"How does the Constitution ensure judicial independence in Kenya?\"))"
   ]
  },
  {
   "cell_type": "code",
   "execution_count": 16,
   "id": "d4638072",
   "metadata": {},
   "outputs": [
    {
     "name": "stdout",
     "output_type": "stream",
     "text": [
      "According to the 2009 survey, the contributions of commercial banks and MFIs were:\n",
      "\n",
      "Commercial banks:\n",
      "- The number of deposit accounts increased by 3.9 million, up from 2.5 million at the end of 2005, to 6.4 million accounts at the end of 2008, an impressive growth of 152 percent.\n",
      "- Deposits increased 71 percent, from Ksh. 560 billion equivalent to 36 percent of GDP to Ksh. 864 billion, equivalent to 41 percent of GDP.\n",
      "- The branch network expanded by 60 percent, with banks opening 312 new branches, expanding the network from 534 to 887 branches.\n",
      "- The ATM infrastructure expanded fourfold, from 323 units to 1,325 units.\n",
      "- Staff employed doubled from 12,600 to 25,400.\n",
      "\n",
      "MFIs:\n",
      "- The customer base grew by 117 percent.\n",
      "- The proportion of urban residents using MFIs was higher than that of rural residents in 2006, but this is now more even at 3.5% and 3.4% reflecting a significant expansion of MFI outreach to rural areas.\n",
      "- The pattern of factors influencing MFI use were prioritized differently to those for banks and SACCOs, with age being a key factor.\n"
     ]
    }
   ],
   "source": [
    "print(ask_question(\"What were the contributions of commercial banks and MFIs according to the 2009 survey?\"))"
   ]
  },
  {
   "cell_type": "code",
   "execution_count": null,
   "id": "05cac35b",
   "metadata": {},
   "outputs": [],
   "source": [
    "# ----------------------------\n",
    "# Chatbot function\n",
    "# ----------------------------\n",
    "def chatbot_fn(question, history):\n",
    "    history.append({\"role\": \"user\", \"content\": question})\n",
    "    answer = ask_question(question, history)\n",
    "    history.append({\"role\": \"assistant\", \"content\": answer})\n",
    "    return history, history\n",
    "\n",
    "# ----------------------------\n",
    "# Gradio UI\n",
    "# ----------------------------\n",
    "with gr.Blocks() as demo:\n",
    "    gr.Markdown(\"## Constitution of Kenya 2010 ChatBot (ParentDocument Retriever)\")\n",
    "    chatbot = gr.Chatbot(type=\"messages\")  \n",
    "    msg = gr.Textbox(label=\"Ask a question\")\n",
    "    state = gr.State([])\n",
    "\n",
    "    def respond(message, history):\n",
    "        return chatbot_fn(message, history)\n",
    "\n",
    "    msg.submit(respond, [msg, state], [chatbot, state])\n",
    "\n",
    "demo.launch()\n"
   ]
  }
 ],
 "metadata": {
  "kernelspec": {
   "display_name": "Python 3",
   "language": "python",
   "name": "python3"
  },
  "language_info": {
   "codemirror_mode": {
    "name": "ipython",
    "version": 3
   },
   "file_extension": ".py",
   "mimetype": "text/x-python",
   "name": "python",
   "nbconvert_exporter": "python",
   "pygments_lexer": "ipython3",
   "version": "3.11.9"
  }
 },
 "nbformat": 4,
 "nbformat_minor": 5
}
