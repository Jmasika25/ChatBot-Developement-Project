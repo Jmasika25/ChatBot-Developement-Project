{
 "cells": [
  {
   "cell_type": "markdown",
   "id": "83a96408",
   "metadata": {},
   "source": [
    "Chatbot\n",
    "\n",
    "Virtual Environment"
   ]
  },
  {
   "cell_type": "code",
   "execution_count": 1,
   "id": "7595fb34",
   "metadata": {},
   "outputs": [
    {
     "data": {
      "text/plain": [
       "True"
      ]
     },
     "execution_count": 1,
     "metadata": {},
     "output_type": "execute_result"
    }
   ],
   "source": [
    "from dotenv import load_dotenv\n",
    "import os\n",
    "from mistralai import Mistral\n",
    "import requests\n",
    "import numpy as np\n",
    "import faiss # vector database\n",
    "load_dotenv()"
   ]
  },
  {
   "cell_type": "code",
   "execution_count": 2,
   "id": "19a40261",
   "metadata": {},
   "outputs": [],
   "source": [
    "url = \"https://www.parliament.go.ke/sites/default/files/2017-05/The_Constitution_of_Kenya_2010.pdf\"\n",
    "response = requests.get(url)\n",
    "text = response.text\n",
    "# print(text)"
   ]
  },
  {
   "cell_type": "code",
   "execution_count": 3,
   "id": "32897d1c",
   "metadata": {},
   "outputs": [
    {
     "data": {
      "text/plain": [
       "543"
      ]
     },
     "execution_count": 3,
     "metadata": {},
     "output_type": "execute_result"
    }
   ],
   "source": [
    "chunk_size = 3000 # split text into chunks\n",
    "chunks = [text[i:i+chunk_size] for i in range (0, len(text), chunk_size)]\n",
    "len(chunks)"
   ]
  },
  {
   "cell_type": "code",
   "execution_count": 4,
   "id": "156a5356",
   "metadata": {},
   "outputs": [],
   "source": [
    "api_key = os.environ[\"mistral_api_key\"]\n",
    "client = Mistral(api_key = api_key)"
   ]
  },
  {
   "cell_type": "code",
   "execution_count": 5,
   "id": "1237bb31",
   "metadata": {},
   "outputs": [],
   "source": [
    "def get_single_embedding(text):\n",
    "    response = client.embeddings.create(\n",
    "        model=\"mistral-embed\",\n",
    "        inputs=[text]  # must be a list\n",
    "    )\n",
    "    return response.data[0].embedding"
   ]
  },
  {
   "cell_type": "code",
   "execution_count": 11,
   "id": "ea764bf8",
   "metadata": {},
   "outputs": [],
   "source": [
    "import time\n",
    "\n",
    "def get_embeddings_in_batches(chunks, max_batch_size=50, max_retries=3, sleep_time=2):\n",
    "    all_embeddings = []\n",
    "\n",
    "    for i in range(0, len(chunks), max_batch_size):\n",
    "        batch = chunks[i:i+max_batch_size]\n",
    "\n",
    "        for attempt in range(max_retries):\n",
    "            try:\n",
    "                response = client.embeddings.create(\n",
    "                    model=\"mistral-embed\",\n",
    "                    inputs=batch\n",
    "                )\n",
    "                batch_embeddings = [item.embedding for item in response.data]\n",
    "                all_embeddings.extend(batch_embeddings)\n",
    "                break  # success → break retry loop\n",
    "            except Exception as e:\n",
    "                if \"rate limit\" in str(e).lower():\n",
    "                    print(f\"Rate limit hit. Sleeping {sleep_time}s...\")\n",
    "                    time.sleep(sleep_time)\n",
    "                    sleep_time *= 2  # exponential backoff\n",
    "                else:\n",
    "                    raise\n",
    "\n",
    "    return all_embeddings\n"
   ]
  },
  {
   "cell_type": "code",
   "execution_count": 12,
   "id": "de27ec2d",
   "metadata": {},
   "outputs": [],
   "source": [
    "# 1. Create embeddings for your document chunks\n",
    "text_embeddings = get_embeddings_in_batches(chunks, max_batch_size=10)\n",
    "text_embeddings = np.array(text_embeddings, dtype=\"float32\")\n",
    "# 2. Build FAISS index\n",
    "d = text_embeddings.shape[1]   # embedding dimension\n",
    "index = faiss.IndexFlatL2(d)   # L2 distance index\n",
    "index.add(text_embeddings)     # add all chunk embeddings"
   ]
  },
  {
   "cell_type": "code",
   "execution_count": 13,
   "id": "6acc3f2c",
   "metadata": {},
   "outputs": [],
   "source": [
    "# Create embedding for the query\n",
    "question = \"What are the Principles of land policy in the constitution of Kenya\"\n",
    "question_embeddings = get_single_embedding(question)\n",
    "# Convert to numpy and reshape\n",
    "question_embeddings = np.array(question_embeddings, dtype=\"float32\").reshape(1, -1)\n",
    "# Search top-k similar chunks\n",
    "D, I = index.search(question_embeddings, k=2)\n",
    "# Retrieve the corresponding chunks\n",
    "retrieved_chunks = [chunks[i] for i in I[0]]\n"
   ]
  },
  {
   "cell_type": "code",
   "execution_count": 14,
   "id": "cc589549",
   "metadata": {},
   "outputs": [],
   "source": [
    "# Prompt Engineering\n",
    "prompt = f\"\"\"\"\n",
    "The context information is as below:\n",
    "{retrieved_chunks}\n",
    "Given the context information and without prior knowledge answer the query\n",
    "query: {question}\n",
    "answer:\n",
    "\"\"\""
   ]
  },
  {
   "cell_type": "code",
   "execution_count": 15,
   "id": "31fd151c",
   "metadata": {},
   "outputs": [],
   "source": [
    "def run_mistral(user_message, model = \"mistral-large-latest\"):\n",
    "    messages = [\n",
    "        {\n",
    "            \"role\": \"user\",\n",
    "            \"content\": user_message\n",
    "        }\n",
    "    ]\n",
    "    chat_response = client.chat.complete(model=model, messages=messages)\n",
    "\n",
    "    return chat_response.choices[0].message.content"
   ]
  },
  {
   "cell_type": "code",
   "execution_count": 16,
   "id": "d86ac047",
   "metadata": {},
   "outputs": [
    {
     "name": "stdout",
     "output_type": "stream",
     "text": [
      "The provided context appears to be corrupted or unreadable (it contains non-textual, garbled data). As a result, it does not contain any meaningful information about the **Principles of Land Policy in the Constitution of Kenya**.\n",
      "\n",
      "However, I can provide the correct answer based on **Article 60 of the Constitution of Kenya (2010)**, which outlines the **Principles of Land Policy**:\n",
      "\n",
      "### **Principles of Land Policy in the Constitution of Kenya (2010)**\n",
      "The land policy in Kenya is guided by the following principles (as per **Article 60**):\n",
      "\n",
      "1. **Equitable Access** – Land should be held, used, and managed in a manner that is equitable, efficient, productive, and sustainable.\n",
      "2. **Secure Land Rights** – Land tenure systems should be based on:\n",
      "   - **Equity** (fairness in distribution and access),\n",
      "   - **Common good** (public interest),\n",
      "   - **Sustainable development** (environmental and economic sustainability),\n",
      "   - **Productive use** (efficient utilization).\n",
      "3. **Elimination of Gender Discrimination** – Land laws should not discriminate against any person on the basis of **gender**, particularly ensuring women’s rights to own and inherit land.\n",
      "4. **Encouragement of Community Land** – Recognition and protection of **community land rights**, especially for marginalized and indigenous communities.\n",
      "5. **Transparent and Cost-Effective Administration** – Land administration should be **transparent, accountable, and cost-effective** to prevent corruption and inefficiency.\n",
      "6. **Sustainable Environmental Management** – Land use should promote **environmental conservation** and prevent degradation.\n",
      "7. **Elimination of Unlawful Occupation** – The state should work to eliminate **illegal and irregular land allocations** and ensure proper land adjudication.\n",
      "8. **Historical Injustices** – The government should address **historical land injustices** (e.g., colonial-era land grabs, forced displacements) through just and transparent mechanisms.\n",
      "9. **Public Land for Public Use** – Public land should be used **only for public purposes** and not privatized unlawfully.\n",
      "10. **Participatory Land Governance** – Land policies should involve **public participation**, especially from affected communities.\n",
      "\n",
      "### **Key Supporting Laws & Institutions**\n",
      "- **National Land Commission (NLC)** – Manages public land and ensures fair land administration.\n",
      "- **Land Act (2012), Land Registration Act (2012), Community Land Act (2016)** – Implement constitutional land principles.\n",
      "- **Environmental Management and Coordination Act (EMCA)** – Ensures sustainable land use.\n",
      "\n",
      "Would you like a deeper explanation on any specific principle?\n"
     ]
    }
   ],
   "source": [
    "print(run_mistral(prompt))"
   ]
  },
  {
   "cell_type": "code",
   "execution_count": null,
   "id": "6d62d9a7",
   "metadata": {},
   "outputs": [],
   "source": [
    "# The workflow that makes it easier to ask subsequent questions with just a function\n",
    "def ask_question(question):\n",
    "    # embed\n",
    "    q_emb = get_single_embedding(question)\n",
    "    q_emb = np.array(q_emb, dtype=\"float32\").reshape(1, -1)\n",
    "    # search\n",
    "    D, I = index.search(q_emb, k=2)\n",
    "    retrieved_chunks = [chunks[i] for i in I[0]]\n",
    "    # build prompt\n",
    "    context = \"\\n\".join(retrieved_chunks)\n",
    "    prompt = f\"Answer the question using the context below:\\n\\nContext:\\n{context}\\n\\nQuestion: {question}\\nAnswer:\"\n",
    "    # run model\n",
    "    return run_mistral(prompt)"
   ]
  },
  {
   "cell_type": "code",
   "execution_count": 41,
   "id": "a857d59c",
   "metadata": {},
   "outputs": [
    {
     "name": "stdout",
     "output_type": "stream",
     "text": [
      "The provided context appears to be corrupted or unreadable, so I cannot extract meaningful information from it. However, I can answer your question about the **role of the Judiciary in Kenya** based on general knowledge and Kenya's constitutional framework.\n",
      "\n",
      "### **Role of the Judiciary in Kenya**\n",
      "The Judiciary in Kenya is an independent arm of government established under **Article 159 of the Constitution of Kenya (2010)**. Its primary roles include:\n",
      "\n",
      "1. **Interpreting and Applying the Law**\n",
      "   - The Judiciary interprets the Constitution and other laws to ensure justice is administered fairly.\n",
      "   - It resolves disputes between individuals, institutions, and the government.\n",
      "\n",
      "2. **Upholding the Constitution**\n",
      "   - It ensures that all laws and government actions comply with the **Constitution of Kenya (2010)**.\n",
      "   - It has the power to declare laws or actions **unconstitutional** if they violate fundamental rights.\n",
      "\n",
      "3. **Administering Justice**\n",
      "   - It handles **civil, criminal, and constitutional cases** through courts like the **Supreme Court, Court of Appeal, High Court, and Magistrates’ Courts**.\n",
      "   - It ensures fair trials and protects the rights of accused persons.\n",
      "\n",
      "4. **Protecting Human Rights**\n",
      "   - The Judiciary safeguards **fundamental rights and freedoms** (e.g., freedom of speech, equality, and fair trial rights).\n",
      "   - It hears cases related to human rights violations and provides legal remedies.\n",
      "\n",
      "5. **Resolving Disputes**\n",
      "   - It settles conflicts between individuals, businesses, and government entities.\n",
      "   - It also handles **election disputes** (e.g., through the **Political Parties Disputes Tribunal** and **Election Petitions**).\n",
      "\n",
      "6. **Judicial Review**\n",
      "   - It can review and nullify **unlawful administrative decisions** by government agencies.\n",
      "   - Ensures that public officials act within their legal authority.\n",
      "\n",
      "7. **Promoting Alternative Dispute Resolution (ADR)**\n",
      "   - Encourages mediation, arbitration, and reconciliation to reduce court backlogs.\n",
      "\n",
      "8. **Ensuring Independence and Impartiality**\n",
      "   - Judges and magistrates must act **without fear, favor, or bias** (as per **Article 160 of the Constitution**).\n",
      "   - The **Judicial Service Commission (JSC)** oversees appointments and discipline to maintain integrity.\n",
      "\n",
      "### **Key Judicial Institutions in Kenya**\n",
      "- **Supreme Court** (Highest court, handles constitutional matters and presidential election petitions)\n",
      "- **Court of Appeal** (Hears appeals from the High Court)\n",
      "- **High Court** (Handles serious criminal and civil cases, constitutional interpretations)\n",
      "- **Magistrates’ Courts** (Deal with lesser criminal and civil cases)\n",
      "- **Specialized Courts/Tribunals** (e.g., **Environmental & Land Court, Employment & Labour Relations Court**)\n",
      "\n",
      "### **Conclusion**\n",
      "The Judiciary in Kenya plays a **crucial role in upholding the rule of law, protecting rights, and ensuring justice for all citizens**. Its independence is a cornerstone of Kenya’s democratic system.\n",
      "\n",
      "Would you like details on a specific aspect, such as **judicial appointments** or **landmark cases**?\n"
     ]
    }
   ],
   "source": [
    "print(ask_question(\"What is the role of the Judiciary in Kenya\"))"
   ]
  },
  {
   "cell_type": "code",
   "execution_count": 43,
   "id": "d6b6d212",
   "metadata": {},
   "outputs": [
    {
     "name": "stdout",
     "output_type": "stream",
     "text": [
      "The provided context is a **PDF object structure** (likely from a PDF file of the Kenyan laws or another document), not the actual text of the **Road Traffic Act** or the **Constitution of Kenya**. The snippets you shared are metadata entries describing page layouts (e.g., `MediaBox`, `Resources`, `Contents`), not legal content.\n",
      "\n",
      "### **Road Traffic Act in Kenya’s Legal Framework**\n",
      "The **Road Traffic Act (Cap. 403)** is a **statute** (not part of the Constitution itself) that governs road use, vehicle registration, licensing, traffic offenses, and safety regulations in Kenya. Key provisions include:\n",
      "\n",
      "1. **Licensing & Registration**\n",
      "   - Mandates driver’s licenses (Section 30) and vehicle registration (Part III).\n",
      "   - Requires third-party insurance (Section 5).\n",
      "\n",
      "2. **Traffic Rules & Offenses**\n",
      "   - Speed limits, drunk driving (Section 44), and reckless driving penalties.\n",
      "   - Use of seatbelts (Section 118A) and helmets for motorcyclists.\n",
      "\n",
      "3. **Enforcement**\n",
      "   - Powers of police and **National Transport and Safety Authority (NTSA)** to enforce compliance.\n",
      "   - Fines, imprisonment, or license suspension for violations.\n",
      "\n",
      "4. **Accidents & Liability**\n",
      "   - Reporting accidents (Section 70) and compensation for victims.\n",
      "\n",
      "5. **Public Service Vehicles (PSVs)**\n",
      "   - Regulations for matatus, buses, and taxis (e.g., speed governors, inspections).\n",
      "\n",
      "---\n",
      "### **Constitution of Kenya (2010) & Road Traffic**\n",
      "The **Constitution** does not directly state road traffic rules but provides **overarching principles** that influence traffic laws:\n",
      "- **Article 43(1)(c)**: Right to **healthcare** (links to road safety).\n",
      "- **Article 244**: Role of **National Police Service** in enforcing laws (including traffic rules).\n",
      "- **Article 189**: County governments may enforce **local traffic bylaws** (e.g., parking, public transport).\n",
      "\n",
      "---\n",
      "### **Where to Find the Full Text**\n",
      "For the **exact wording** of the **Road Traffic Act**:\n",
      "1. **Official Sources**:\n",
      "   - [Kenya Law Reports](https://kenyalaw.org) (search for \"Road Traffic Act\").\n",
      "   - [NTSA Website](https://www.ntsa.go.ke).\n",
      "2. **PDF Downloads**:\n",
      "   - The Act is often available as a PDF from government portals or legal databases.\n",
      "\n",
      "Would you like help interpreting a **specific section** of the Act?\n"
     ]
    }
   ],
   "source": [
    "print(ask_question(\"What does the Road Traffic Act state in the constitution of Kenya?\"))"
   ]
  },
  {
   "cell_type": "code",
   "execution_count": 44,
   "id": "774d2204",
   "metadata": {},
   "outputs": [
    {
     "name": "stdout",
     "output_type": "stream",
     "text": [
      "The context you provided is a snippet of a **PDF file's internal structure** (specifically, page objects in a PDF's object stream). It does **not** contain any textual content about Kenyan laws or corruption.\n",
      "\n",
      "To answer your question about **Kenya's laws on corruption**, here’s a summary based on actual legal frameworks:\n",
      "\n",
      "### **Kenya’s Anti-Corruption Laws**\n",
      "Kenya has several laws and institutions designed to combat corruption, including:\n",
      "\n",
      "1. **The Anti-Corruption and Economic Crimes Act (2003, amended 2019)**\n",
      "   - Criminalizes bribery, fraud, embezzlement, abuse of office, and other economic crimes.\n",
      "   - Establishes the **Ethics and Anti-Corruption Commission (EACC)** as the primary anti-corruption agency.\n",
      "   - Provides for asset recovery and whistleblower protections.\n",
      "\n",
      "2. **The Bribery Act (2016)**\n",
      "   - Prohibits bribery in both public and private sectors.\n",
      "   - Introduces corporate liability for corruption offenses.\n",
      "\n",
      "3. **The Public Officer Ethics Act (2003)**\n",
      "   - Sets ethical standards for public officers, including conflict-of-interest rules.\n",
      "   - Requires public officials to declare their wealth.\n",
      "\n",
      "4. **The Leadership and Integrity Act (2012)**\n",
      "   - Mandates integrity standards for state officers.\n",
      "   - Disqualifies individuals convicted of corruption from holding public office.\n",
      "\n",
      "5. **The Proceeds of Crime and Anti-Money Laundering Act (2009, amended 2017)**\n",
      "   - Targets money laundering and illicit financial flows linked to corruption.\n",
      "\n",
      "6. **The Constitution of Kenya (2010)**\n",
      "   - **Article 73** outlines principles of leadership and integrity.\n",
      "   - **Article 79** establishes the **EACC** as a constitutional commission.\n",
      "   - **Article 259(4)** requires public participation in governance to enhance transparency.\n",
      "\n",
      "### **Key Anti-Corruption Bodies in Kenya**\n",
      "- **Ethics and Anti-Corruption Commission (EACC)** – Investigates and prosecutes corruption cases.\n",
      "- **Directorate of Criminal Investigations (DCI)** – Works with EACC on corruption-related crimes.\n",
      "- **Office of the Director of Public Prosecutions (ODPP)** – Prosecutes corruption cases.\n",
      "- **Judiciary** – Has specialized **Anti-Corruption Courts** to fast-track cases.\n",
      "\n",
      "### **Penalties for Corruption in Kenya**\n",
      "- **Bribery**: Fines up to **KSh 5 million** and/or **imprisonment for up to 10 years**.\n",
      "- **Abuse of Office**: Imprisonment for **up to 10 years** and possible asset forfeiture.\n",
      "- **Money Laundering**: Fines and imprisonment for **up to 14 years**.\n",
      "\n",
      "### **Recent Developments (2023–2024)**\n",
      "- Kenya has been under pressure from **international bodies (e.g., FATF, UNCAC)** to strengthen enforcement.\n",
      "- The **EACC has increased high-profile arrests**, including governors, MPs, and civil servants.\n",
      "- **Whistleblower protections** have been expanded, but challenges remain in implementation.\n",
      "\n",
      "### **Where to Find Official Legal Texts?**\n",
      "- **[Kenya Law Reports](https://kenyalaw.org/)** (Official government legal database)\n",
      "- **[EACC Website](https://www.eacc.go.ke/)**\n",
      "- **[ODPP Kenya](https://www.odpp.go.ke/)**\n",
      "\n",
      "Would you like details on a specific aspect of Kenya’s anti-corruption laws?\n"
     ]
    }
   ],
   "source": [
    "print(ask_question(\"What does the law of Kenya say about Corruption?\"))"
   ]
  },
  {
   "cell_type": "code",
   "execution_count": 14,
   "id": "0784f0cc",
   "metadata": {},
   "outputs": [],
   "source": [
    "def get_embeddings(input):\n",
    "    embeddings_batch_response = client.embeddings.create(\n",
    "        model = \"mistral-embed\",\n",
    "        inputs = input\n",
    "    )\n",
    "    return embeddings_batch_response.data[0].embedding"
   ]
  },
  {
   "cell_type": "code",
   "execution_count": null,
   "id": "2e26358d",
   "metadata": {},
   "outputs": [],
   "source": [
    "text_embedding = np.array([get_embeddings(chunk) for chunk in chunks])"
   ]
  },
  {
   "cell_type": "code",
   "execution_count": 7,
   "id": "8f164a3c",
   "metadata": {},
   "outputs": [],
   "source": [
    "# store \n",
    "d = text_embedding.shape[1]\n",
    "index = faiss.IndexFlatL2(d)\n",
    "index.add(text_embedding)"
   ]
  },
  {
   "cell_type": "code",
   "execution_count": 8,
   "id": "4a68c256",
   "metadata": {},
   "outputs": [],
   "source": [
    "question = \"What were the 2 main things the author worked on before college?\"\n",
    "question_embeddings = np.array([get_embeddings(question)])"
   ]
  },
  {
   "cell_type": "code",
   "execution_count": 9,
   "id": "f60ee452",
   "metadata": {},
   "outputs": [],
   "source": [
    "D, I = index.search(question_embeddings, k=2) # D = distance, I = index\n",
    "retrieved_chunk = [chunks[1] for i in I.tolist()[0]]"
   ]
  },
  {
   "cell_type": "markdown",
   "id": "f1ff36e2",
   "metadata": {},
   "source": [
    "## Zero short learning\n",
    "## few short learning"
   ]
  },
  {
   "cell_type": "code",
   "execution_count": 10,
   "id": "51cd520a",
   "metadata": {},
   "outputs": [],
   "source": [
    "# Prompt Engineering\n",
    "prompt = f\"\"\"\"\n",
    "The context information is as below:\n",
    "{retrieved_chunk}\n",
    "Given the context information and without prior knowledge answer the query\n",
    "query: {question}\n",
    "answer:\n",
    "\"\"\""
   ]
  },
  {
   "cell_type": "markdown",
   "id": "52ec5e19",
   "metadata": {},
   "source": [
    "# RAG - Retrieval Augmented Generation"
   ]
  },
  {
   "cell_type": "code",
   "execution_count": 11,
   "id": "ec7fe6b5",
   "metadata": {},
   "outputs": [],
   "source": [
    "def run_mistral(user_message, model = \"mistral-large-latest\"):\n",
    "    messages = [\n",
    "        {\n",
    "            \"role\": \"user\",\n",
    "            \"content\": user_message\n",
    "        }\n",
    "    ]\n",
    "    chat_response = client.chat.complete(model=model, messages=messages)\n",
    "\n",
    "    return chat_response.choices[0].message.content"
   ]
  },
  {
   "cell_type": "code",
   "execution_count": 12,
   "id": "7c721ac5",
   "metadata": {},
   "outputs": [
    {
     "name": "stdout",
     "output_type": "stream",
     "text": [
      "Before college, the author mainly worked on:\n",
      "\n",
      "1. Programming simple games.\n",
      "2. Developing a program to predict how high model rockets would fly.\n"
     ]
    }
   ],
   "source": [
    "print(run_mistral(prompt))"
   ]
  }
 ],
 "metadata": {
  "kernelspec": {
   "display_name": "myenv",
   "language": "python",
   "name": "python3"
  },
  "language_info": {
   "codemirror_mode": {
    "name": "ipython",
    "version": 3
   },
   "file_extension": ".py",
   "mimetype": "text/x-python",
   "name": "python",
   "nbconvert_exporter": "python",
   "pygments_lexer": "ipython3",
   "version": "3.11.9"
  }
 },
 "nbformat": 4,
 "nbformat_minor": 5
}
